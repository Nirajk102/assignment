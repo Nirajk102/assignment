{
 "cells": [
  {
   "cell_type": "markdown",
   "id": "e68926c1-3152-4ec8-a6bd-4fb963f69fcf",
   "metadata": {},
   "source": [
    "Q1. Create a python program to sort the given list of tuples based on integer value using a\n",
    "lambda function.\n",
    "[('Sachin Tendulkar', 34357), ('Ricky Ponting', 27483), ('Jack Kallis', 25534), ('Virat Kohli', 24936)]"
   ]
  },
  {
   "cell_type": "code",
   "execution_count": 2,
   "id": "3eda14e3-2d7e-4c24-94e3-85890cb446ef",
   "metadata": {},
   "outputs": [
    {
     "name": "stdout",
     "output_type": "stream",
     "text": [
      "[('Virat Kohli', 24936), ('Jack Kallis', 25534), ('Ricky Ponting', 27483), ('Sachin Tendulkar', 34357)]\n"
     ]
    }
   ],
   "source": [
    "s=[('Sachin Tendulkar', 34357), ('Ricky Ponting', 27483), ('Jack Kallis', 25534), ('Virat Kohli', 24936)]\n",
    "a=sorted(s,key=lambda x:x[1])\n",
    "print(a)"
   ]
  },
  {
   "cell_type": "markdown",
   "id": "f2627262-435e-49a6-988e-3c0e58d85953",
   "metadata": {},
   "source": [
    "Q2. Write a Python Program to find the squares of all the numbers in the given list of integers using\n",
    "lambda and map functions.\n",
    "[1, 2, 3, 4, 5, 6, 7, 8, 9, 10]"
   ]
  },
  {
   "cell_type": "code",
   "execution_count": 4,
   "id": "341493af-1600-4e63-867f-49a11c8e29cd",
   "metadata": {},
   "outputs": [
    {
     "name": "stdout",
     "output_type": "stream",
     "text": [
      "[1, 4, 9, 16, 25, 36, 49, 64, 81, 100]\n"
     ]
    }
   ],
   "source": [
    "s=[1, 2, 3, 4, 5, 6, 7, 8, 9, 10]\n",
    "square=list(map(lambda x:x**2,s))\n",
    "print(square)"
   ]
  },
  {
   "cell_type": "markdown",
   "id": "9ee3cf03-6fb4-45c8-8c7f-8ea9c3241b58",
   "metadata": {},
   "source": [
    "Q3. Write a python program to convert the given list of integers into a tuple of strings. Use map and\n",
    "lambda functions\n",
    "Given String: [1, 2, 3, 4, 5, 6, 7, 8, 9, 10]\n",
    "Expected output: ('1', '2', '3', '4', '5', '6', '7', '8', '9', '10')"
   ]
  },
  {
   "cell_type": "code",
   "execution_count": 12,
   "id": "e11e0f3f-cda8-4f93-b3c6-895d6cac0f0a",
   "metadata": {},
   "outputs": [
    {
     "name": "stdout",
     "output_type": "stream",
     "text": [
      "('1', '2', '3', '4', '5', '6', '7', '8', '9', '10')\n"
     ]
    }
   ],
   "source": [
    "Given_String= [1, 2, 3, 4, 5, 6, 7, 8, 9, 10]\n",
    "Expected_output= ('1', '2', '3', '4', '5', '6', '7', '8', '9', '10')\n",
    "\n",
    "output=tuple(map(lambda x: str(x), Given_String))\n",
    "print(output)"
   ]
  },
  {
   "cell_type": "markdown",
   "id": "6047a4c1-edd4-4058-87df-cf6b5a933025",
   "metadata": {},
   "source": [
    "Q4. Write a python program using reduce function to compute the product of a list containing numbers\n",
    "from 1 to 25."
   ]
  },
  {
   "cell_type": "code",
   "execution_count": 16,
   "id": "60f801c3-7ef5-42f5-a2be-da34a68f453c",
   "metadata": {},
   "outputs": [
    {
     "name": "stdout",
     "output_type": "stream",
     "text": [
      "15511210043330985984000000\n"
     ]
    }
   ],
   "source": [
    "from functools import  reduce\n",
    "a=[]\n",
    "for i in range(1,26):\n",
    "    a.append(i)\n",
    "product=reduce(lambda x,y : x*y,a)\n",
    "print(product)"
   ]
  },
  {
   "cell_type": "markdown",
   "id": "e768cdc6-44e9-41ac-bcf3-09e59bb88c56",
   "metadata": {},
   "source": [
    "Q5. Write a python program to filter the numbers in a given list that are divisible by 2 and 3 using the\n",
    "filter function.\n",
    "[2, 3, 6, 9, 27, 60, 90, 120, 55, 46]"
   ]
  },
  {
   "cell_type": "code",
   "execution_count": 18,
   "id": "5f9e798d-d225-42a3-babc-e29935344db9",
   "metadata": {},
   "outputs": [
    {
     "name": "stdout",
     "output_type": "stream",
     "text": [
      "[6, 60, 90, 120]\n"
     ]
    }
   ],
   "source": [
    "\n",
    "given_number=[2, 3, 6, 9, 27, 60, 90, 120, 55, 46]\n",
    "div_2_and_3=list(filter(lambda x: x%2==0 and x%3==0 , given_number))\n",
    "print(div_2_and_3)"
   ]
  },
  {
   "cell_type": "markdown",
   "id": "57154f8f-c8d1-4cea-8374-be8134573920",
   "metadata": {},
   "source": [
    "Q6. Write a python program to find palindromes in the given list of strings using lambda and filter\n",
    "function.\n",
    "['python', 'php', 'aba', 'radar', 'level']"
   ]
  },
  {
   "cell_type": "code",
   "execution_count": 21,
   "id": "f6fcd72a-f0dd-4cc5-9a44-700a958db9bf",
   "metadata": {},
   "outputs": [
    {
     "name": "stdout",
     "output_type": "stream",
     "text": [
      "['php', 'aba', 'radar', 'level']\n"
     ]
    }
   ],
   "source": [
    "given_string=['python', 'php', 'aba', 'radar', 'level']\n",
    "palindrome=list(filter(lambda x :x==x[::-1],given_string))\n",
    "print(palindrome)"
   ]
  },
  {
   "cell_type": "code",
   "execution_count": null,
   "id": "92f1d470-1ac2-4c19-952c-fce11a1beb37",
   "metadata": {},
   "outputs": [],
   "source": []
  },
  {
   "cell_type": "code",
   "execution_count": null,
   "id": "11cabc74-bc64-4886-a7c1-9b4e50c25773",
   "metadata": {},
   "outputs": [],
   "source": []
  }
 ],
 "metadata": {
  "kernelspec": {
   "display_name": "Python 3 (ipykernel)",
   "language": "python",
   "name": "python3"
  },
  "language_info": {
   "codemirror_mode": {
    "name": "ipython",
    "version": 3
   },
   "file_extension": ".py",
   "mimetype": "text/x-python",
   "name": "python",
   "nbconvert_exporter": "python",
   "pygments_lexer": "ipython3",
   "version": "3.10.8"
  }
 },
 "nbformat": 4,
 "nbformat_minor": 5
}
