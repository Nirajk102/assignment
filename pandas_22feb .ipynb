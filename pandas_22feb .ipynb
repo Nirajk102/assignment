{
 "cells": [
  {
   "cell_type": "code",
   "execution_count": 2,
   "id": "4afd0e86",
   "metadata": {},
   "outputs": [],
   "source": [
    "import pandas as pd\n",
    "#Q1. Create a Pandas Series that contains the following data: 4, 8, 15, 16, 23, and 42. Then, print the series.\n"
   ]
  },
  {
   "cell_type": "code",
   "execution_count": 8,
   "id": "86dc1637",
   "metadata": {},
   "outputs": [
    {
     "name": "stdout",
     "output_type": "stream",
     "text": [
      "0     4\n",
      "1     8\n",
      "2    15\n",
      "3    16\n",
      "4    23\n",
      "5    42\n",
      "dtype: int64 <class 'pandas.core.series.Series'>\n"
     ]
    }
   ],
   "source": [
    "series=[4, 8, 15, 16, 23, 42]\n",
    "df1=pd.Series(series)\n",
    "print(df1,type(df1))"
   ]
  },
  {
   "cell_type": "code",
   "execution_count": 9,
   "id": "5a20aa4d",
   "metadata": {},
   "outputs": [],
   "source": [
    "# 2. Create a variable of list type containing 10 elements in it, and apply pandas.Series function on the\n",
    "#variable print it.\n"
   ]
  },
  {
   "cell_type": "code",
   "execution_count": 5,
   "id": "097c96f6",
   "metadata": {},
   "outputs": [
    {
     "name": "stdout",
     "output_type": "stream",
     "text": [
      "0        my\n",
      "1      name\n",
      "2         1\n",
      "3         2\n",
      "4         3\n",
      "5         4\n",
      "6     shtan\n",
      "7       may\n",
      "8    234334\n",
      "9     76667\n",
      "dtype: object <class 'pandas.core.series.Series'>\n"
     ]
    }
   ],
   "source": [
    "list=[\"my\",'name',1,2,3,4,'shtan','may',234334,76667]\n",
    "df2=pd.Series(list)\n",
    "print(df2,type(df2))"
   ]
  },
  {
   "cell_type": "code",
   "execution_count": 6,
   "id": "b14e2b8b",
   "metadata": {},
   "outputs": [],
   "source": [
    "#Q3. Create a Pandas DataFrame that contains the following data:"
   ]
  },
  {
   "cell_type": "code",
   "execution_count": 25,
   "id": "9ab9cd8e",
   "metadata": {},
   "outputs": [
    {
     "name": "stdout",
     "output_type": "stream",
     "text": [
      "  Name  Age Gender\n",
      " Alice   25 Female\n",
      "   Bob   30   Male\n",
      "Claire   27 Female\n"
     ]
    }
   ],
   "source": [
    "details=[\n",
    "['Alice',25,'Female'],\n",
    "['Bob',30,'Male'],\n",
    "['Claire',27,'Female']]\n",
    "\n",
    "df3=pd.DataFrame(details,columns=['Name','Age','Gender'])\n",
    "print(df3.to_string(index=False))"
   ]
  },
  {
   "cell_type": "code",
   "execution_count": 26,
   "id": "b5e93cde",
   "metadata": {},
   "outputs": [],
   "source": [
    "#Q4. What is ‘DataFrame’ in pandas and how is it different from pandas.series? Explain with an example.\n"
   ]
  },
  {
   "cell_type": "markdown",
   "id": "380ff06b",
   "metadata": {},
   "source": [
    "Dataframe is manily is used to struched data in format way and dataframe is\n",
    "2 diemnsional which is smiliar to spreedsheet of sql  where series is 1d "
   ]
  },
  {
   "cell_type": "code",
   "execution_count": 34,
   "id": "1bcd3756",
   "metadata": {},
   "outputs": [
    {
     "name": "stdout",
     "output_type": "stream",
     "text": [
      "0     Alice\n",
      "1       Bob\n",
      "2    Claire\n",
      "Name: Name, dtype: object <class 'pandas.core.series.Series'>\n",
      "     Name  Age  Gender\n",
      "0   Alice   25  Female\n",
      "1     Bob   30    Male\n",
      "2  Claire   27  Female <class 'pandas.core.frame.DataFrame'>\n"
     ]
    }
   ],
   "source": [
    "details=[\n",
    "['Alice',25,'Female'],\n",
    "['Bob',30,'Male'],\n",
    "['Claire',27,'Female']]\n",
    "\n",
    "dataframe=pd.DataFrame(details,columns=['Name','Age','Gender'])\n",
    "Series=dataframe['Name']\n",
    "print(Series,type(Series))\n",
    "print(dataframe,type(dataframe))"
   ]
  },
  {
   "cell_type": "code",
   "execution_count": 35,
   "id": "54391432",
   "metadata": {},
   "outputs": [],
   "source": [
    "#Q5. What are some common functions you can use to manipulate data in a Pandas DataFrame? Can\n",
    "#you give an example of when you might use one of these functions?\n"
   ]
  },
  {
   "cell_type": "code",
   "execution_count": 38,
   "id": "9ab17489",
   "metadata": {},
   "outputs": [
    {
     "name": "stdout",
     "output_type": "stream",
     "text": [
      "             Age\n",
      "count   3.000000\n",
      "mean   27.333333\n",
      "std     2.516611\n",
      "min    25.000000\n",
      "25%    26.000000\n",
      "50%    27.000000\n",
      "75%    28.500000\n",
      "max    30.000000\n",
      "<class 'pandas.core.frame.DataFrame'>\n",
      "RangeIndex: 3 entries, 0 to 2\n",
      "Data columns (total 3 columns):\n",
      " #   Column  Non-Null Count  Dtype \n",
      "---  ------  --------------  ----- \n",
      " 0   Name    3 non-null      object\n",
      " 1   Age     3 non-null      int64 \n",
      " 2   Gender  3 non-null      object\n",
      "dtypes: int64(1), object(2)\n",
      "memory usage: 200.0+ bytes\n",
      "None\n"
     ]
    }
   ],
   "source": [
    "# There are mainy function that we can use in pandas such as Head(),Tail(),info(),describe()  and many more.\n",
    "\n",
    "details=[\n",
    "['Alice',25,'Female'],\n",
    "['Bob',30,'Male'],\n",
    "['Claire',27,'Female']]\n",
    "\n",
    "dataframe=pd.DataFrame(details,columns=['Name','Age','Gender'])\n",
    "print(dataframe.describe())\n",
    "print(dataframe.info())"
   ]
  },
  {
   "cell_type": "code",
   "execution_count": 39,
   "id": "583a44e3",
   "metadata": {},
   "outputs": [],
   "source": [
    "#Q6. Which of the following is mutable in nature Series, DataFrame, Panel?\n"
   ]
  },
  {
   "cell_type": "code",
   "execution_count": 40,
   "id": "460526e9",
   "metadata": {},
   "outputs": [],
   "source": [
    "#Among the given options, both Series and DataFrame are mutable in nature, while Panel is deprecated and no longer recommended to use in Pandas."
   ]
  },
  {
   "cell_type": "code",
   "execution_count": 41,
   "id": "93f34524",
   "metadata": {},
   "outputs": [],
   "source": [
    "#Q7. Create a DataFrame using multiple Series. Explain with an example."
   ]
  },
  {
   "cell_type": "code",
   "execution_count": 44,
   "id": "94d1ab85",
   "metadata": {},
   "outputs": [],
   "source": [
    "name=pd.Series(['Abhi','love','chaubey','satyam'])\n",
    "age=pd.Series([23,34,45,45])\n",
    "\n",
    "#by using concat function we can add series int0 dataframe\n",
    "df=pd.concat([name,age],axis=1)\n",
    "df.columns=['name','age']"
   ]
  },
  {
   "cell_type": "code",
   "execution_count": 45,
   "id": "3618d403",
   "metadata": {},
   "outputs": [
    {
     "data": {
      "text/html": [
       "<div>\n",
       "<style scoped>\n",
       "    .dataframe tbody tr th:only-of-type {\n",
       "        vertical-align: middle;\n",
       "    }\n",
       "\n",
       "    .dataframe tbody tr th {\n",
       "        vertical-align: top;\n",
       "    }\n",
       "\n",
       "    .dataframe thead th {\n",
       "        text-align: right;\n",
       "    }\n",
       "</style>\n",
       "<table border=\"1\" class=\"dataframe\">\n",
       "  <thead>\n",
       "    <tr style=\"text-align: right;\">\n",
       "      <th></th>\n",
       "      <th>name</th>\n",
       "      <th>age</th>\n",
       "    </tr>\n",
       "  </thead>\n",
       "  <tbody>\n",
       "    <tr>\n",
       "      <th>0</th>\n",
       "      <td>Abhi</td>\n",
       "      <td>23</td>\n",
       "    </tr>\n",
       "    <tr>\n",
       "      <th>1</th>\n",
       "      <td>love</td>\n",
       "      <td>34</td>\n",
       "    </tr>\n",
       "    <tr>\n",
       "      <th>2</th>\n",
       "      <td>chaubey</td>\n",
       "      <td>45</td>\n",
       "    </tr>\n",
       "    <tr>\n",
       "      <th>3</th>\n",
       "      <td>satyam</td>\n",
       "      <td>45</td>\n",
       "    </tr>\n",
       "  </tbody>\n",
       "</table>\n",
       "</div>"
      ],
      "text/plain": [
       "      name  age\n",
       "0     Abhi   23\n",
       "1     love   34\n",
       "2  chaubey   45\n",
       "3   satyam   45"
      ]
     },
     "execution_count": 45,
     "metadata": {},
     "output_type": "execute_result"
    }
   ],
   "source": [
    "df"
   ]
  },
  {
   "cell_type": "code",
   "execution_count": null,
   "id": "3aa5d664",
   "metadata": {},
   "outputs": [],
   "source": []
  }
 ],
 "metadata": {
  "kernelspec": {
   "display_name": "Python 3 (ipykernel)",
   "language": "python",
   "name": "python3"
  },
  "language_info": {
   "codemirror_mode": {
    "name": "ipython",
    "version": 3
   },
   "file_extension": ".py",
   "mimetype": "text/x-python",
   "name": "python",
   "nbconvert_exporter": "python",
   "pygments_lexer": "ipython3",
   "version": "3.10.6"
  }
 },
 "nbformat": 4,
 "nbformat_minor": 5
}
