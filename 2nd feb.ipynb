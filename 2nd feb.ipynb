{
 "cells": [
  {
   "cell_type": "markdown",
   "id": "239b0dc4-3ff2-4e0d-ab02-4cdf0981f699",
   "metadata": {},
   "source": [
    "Q1. Explain with an example each when to use a for loop and a while loop."
   ]
  },
  {
   "cell_type": "markdown",
   "id": "8f1e7275-776c-461d-af3d-431d7e2358f8",
   "metadata": {},
   "source": [
    "I think there are many problems for that we can use both loops, but major thing is that in for loop we know the iteration number but in while loop it iterate till the given condition satisfied or not"
   ]
  },
  {
   "cell_type": "code",
   "execution_count": 2,
   "id": "cc1a8c2e-892b-404a-a041-a8f278074bb0",
   "metadata": {},
   "outputs": [
    {
     "name": "stdout",
     "output_type": "stream",
     "text": [
      "1\n",
      "2\n",
      "3\n",
      "4\n",
      "5\n",
      "6\n",
      "7\n",
      "8\n",
      "9\n"
     ]
    }
   ],
   "source": [
    "#while loop eg:\n",
    "i = 1\n",
    "while i < 10:\n",
    "    print(i)\n",
    "    i += 1 "
   ]
  },
  {
   "cell_type": "code",
   "execution_count": null,
   "id": "78d897a0-82fb-432d-9c6f-b43e493f981b",
   "metadata": {},
   "outputs": [],
   "source": [
    "for i in range(1,10):\n",
    "    p"
   ]
  },
  {
   "cell_type": "markdown",
   "id": "420c1530-15dd-47c6-a65d-4683d04aeff8",
   "metadata": {},
   "source": [
    "Q2. Write a python program to print the sum and product of the first 10 natural numbers using for\n",
    "and while loop."
   ]
  },
  {
   "cell_type": "code",
   "execution_count": 9,
   "id": "598e8313-ae06-44ef-a160-3f9f636fd1d4",
   "metadata": {},
   "outputs": [
    {
     "name": "stdout",
     "output_type": "stream",
     "text": [
      "sum:- 55\n",
      "product:- 3628800\n",
      "55 3628800\n"
     ]
    }
   ],
   "source": [
    "#using for loop\n",
    "natural_number=10\n",
    "sum=0\n",
    "product=1\n",
    "for i in range(1,natural_number+1):\n",
    "    sum=sum+i\n",
    "    product=product*i\n",
    "print(\"sum:-\",sum)\n",
    "print(\"product:-\",product)\n",
    "\n",
    "\n",
    "#using while loop\n",
    "num=10\n",
    "sum=0\n",
    "product=1\n",
    "while num>0:\n",
    "    sum=sum+num\n",
    "    product=product*num\n",
    "    num=num-1\n",
    "print(sum,product)"
   ]
  },
  {
   "cell_type": "markdown",
   "id": "5a82a704-1621-4769-b49e-5905a33b4238",
   "metadata": {},
   "source": [
    "Q3. Create a python program to compute the electricity bill for a household.\n",
    "The per-unit charges in rupees are as follows: For the first 100 units, the user will be charged Rs. 4.5 per\n",
    "unit, for the next 100 units, the user will be charged Rs. 6 per unit, and for the next 100 units, the user will\n",
    "be charged Rs. 10 per unit, After 300 units and above the user will be charged Rs. 20 per unit."
   ]
  },
  {
   "cell_type": "code",
   "execution_count": 10,
   "id": "7145d0ae-dcb5-49fd-889a-e2f1f23b5ad9",
   "metadata": {},
   "outputs": [
    {
     "name": "stdin",
     "output_type": "stream",
     "text": [
      "enter the used unit 310\n"
     ]
    },
    {
     "name": "stdout",
     "output_type": "stream",
     "text": [
      "charge in rupee 2250.0\n"
     ]
    }
   ],
   "source": [
    "unit=int(input(\"enter the used unit\"))\n",
    "if unit<=100:\n",
    "    print(\"charge in rupee\",unit*4.5)\n",
    "elif unit>100 and unit<=200:\n",
    "    print(\"charge in rupee\",100*4.5+(unit-100)*6)\n",
    "elif unit>200 and unit<=300:\n",
    "    print(\"charge in rupee\",100*4.5+100*6+(unit-200)*10)\n",
    "else:\n",
    "    print(\"charge in rupee\",100*4.5+100*6+100*10+(unit-300)*20)"
   ]
  },
  {
   "cell_type": "markdown",
   "id": "e437378e-821d-4cea-8347-bcac6aedc258",
   "metadata": {},
   "source": [
    "Q4. Create a list of numbers from 1 to 100. Use for loop and while loop to calculate the cube of each\n",
    "number and if the cube of that number is divisible by 4 or 5 then append that number in a list and print\n",
    "that list."
   ]
  },
  {
   "cell_type": "code",
   "execution_count": null,
   "id": "220eb14c-9eee-4438-bbfd-174f2da8ba5e",
   "metadata": {},
   "outputs": [
    {
     "name": "stdout",
     "output_type": "stream",
     "text": [
      "[2, 4, 5, 6, 8, 10, 12, 14, 15, 16, 18, 20, 22, 24, 25, 26, 28, 30, 32, 34, 35, 36, 38, 40, 42, 44, 45, 46, 48, 50, 52, 54, 55, 56, 58, 60, 62, 64, 65, 66, 68, 70, 72, 74, 75, 76, 78, 80, 82, 84, 85, 86, 88, 90, 92, 94, 95, 96, 98]\n"
     ]
    }
   ],
   "source": [
    "number_divisible=[]\n",
    "for i in range(1,100):\n",
    "    if (i**3)%4==0 or (i**3)%5==0:\n",
    "        number_divisible.append(i)\n",
    "print(number_divisible)\n",
    "\n"
   ]
  },
  {
   "cell_type": "code",
   "execution_count": null,
   "id": "38b3239d-7ae4-48fb-a293-d2446379c1d4",
   "metadata": {},
   "outputs": [],
   "source": [
    "#for while loop\n",
    "num=1\n",
    "number_divisible=[]\n",
    "while num<=100:\n",
    "    if (num**3)%4==0 or (num**3)%5==0:\n",
    "        number_divisible.append(num)\n",
    "        \n",
    "    else:\n",
    "        pass\n",
    "    num=num+1\n",
    "print(\"while loop\",number_divisible)\n",
    "    "
   ]
  },
  {
   "cell_type": "markdown",
   "id": "e8309027-6f95-4f55-b978-d3f331bc7448",
   "metadata": {},
   "source": [
    "Q5. Write a program to filter count vowels in the below-given string.\n",
    "string = \"I want to become a data scientist\""
   ]
  },
  {
   "cell_type": "code",
   "execution_count": 14,
   "id": "dd18534c-b045-4a18-97aa-0b7f164f154a",
   "metadata": {},
   "outputs": [
    {
     "name": "stdout",
     "output_type": "stream",
     "text": [
      "12\n"
     ]
    }
   ],
   "source": [
    "string = \"I want to become a data scientist\"\n",
    "count=0\n",
    "for i in string:\n",
    "    if i==\"a\" or i==\"e\" or i==\"i\" or i==\"o\" or i==\"u\" or i==\"A\" or i==\"I\" or i==\"O\" or i==\"E\" or i==\"U\"  :\n",
    "        count=count+1\n",
    "    else:\n",
    "        pass\n",
    "print(count)"
   ]
  },
  {
   "cell_type": "code",
   "execution_count": null,
   "id": "d173d96f-37b1-4938-8189-a9728756607c",
   "metadata": {},
   "outputs": [],
   "source": []
  }
 ],
 "metadata": {
  "kernelspec": {
   "display_name": "Python 3 (ipykernel)",
   "language": "python",
   "name": "python3"
  },
  "language_info": {
   "codemirror_mode": {
    "name": "ipython",
    "version": 3
   },
   "file_extension": ".py",
   "mimetype": "text/x-python",
   "name": "python",
   "nbconvert_exporter": "python",
   "pygments_lexer": "ipython3",
   "version": "3.10.8"
  }
 },
 "nbformat": 4,
 "nbformat_minor": 5
}
