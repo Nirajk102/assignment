{
 "cells": [
  {
   "cell_type": "markdown",
   "id": "cad9086d-c637-4eb4-a4e0-fc0482455004",
   "metadata": {},
   "source": [
    "Q1. Which keyword is used to create a function? Create a function to return a list of odd numbers in the\n",
    "range of 1 to 25."
   ]
  },
  {
   "cell_type": "code",
   "execution_count": 3,
   "id": "c3295bbd-905a-43b5-b691-9d2989458093",
   "metadata": {},
   "outputs": [],
   "source": [
    "#def keyword is used to create a function\n",
    "def odd_number():\n",
    "    l=[]\n",
    "    for i in range(1,26):\n",
    "        if i%2!=0:\n",
    "            l.append(i)\n",
    "        else:\n",
    "            pass\n",
    "    return l"
   ]
  },
  {
   "cell_type": "markdown",
   "id": "7adfb178-546e-4339-ac3a-42e8d0ff45bf",
   "metadata": {},
   "source": [
    "Q2. Why *args and **kwargs is used in some functions? Create a function each for *args and **kwargs\n",
    "to demonstrate their use."
   ]
  },
  {
   "cell_type": "code",
   "execution_count": 6,
   "id": "cf13d656-83f8-4123-8c1f-8c43d4fda8b5",
   "metadata": {},
   "outputs": [
    {
     "data": {
      "text/plain": [
       "{'a': 1, 'b': 'ajay'}"
      ]
     },
     "execution_count": 6,
     "metadata": {},
     "output_type": "execute_result"
    }
   ],
   "source": [
    "#  *args basically used for dynamic arguments ,it outcomes into the tuple where *kwargs is used for same dynamically but it is used for dictonary or json form where in parameter\n",
    "\n",
    "#*args example\n",
    "def sum_n(*args):\n",
    "    sum=0\n",
    "    for i in args:\n",
    "        sum=sum+i\n",
    "    return sum\n",
    "\n",
    "\n",
    "#*kargs\n",
    "def sum_2(**kargs):\n",
    "    return kargs\n",
    "sum_2(a=1,b=\"ajay\")\n",
    "    \n"
   ]
  },
  {
   "cell_type": "markdown",
   "id": "ba9c9639-0e9e-4384-b273-1c0ecebdcec8",
   "metadata": {},
   "source": [
    "Q3. What is an iterator in python? Name the method used to initialise the iterator object and the method\n",
    "used for iteration. Use these methods to print the first five elements of the given list [2, 4, 6, 8, 10, 12, 14,\n",
    "16, 18, 20]."
   ]
  },
  {
   "cell_type": "code",
   "execution_count": 16,
   "id": "56eade0b-b475-4c11-832f-fde6fca88afb",
   "metadata": {},
   "outputs": [
    {
     "data": {
      "text/plain": [
       "[2, 4, 6, 8, 10]"
      ]
     },
     "execution_count": 16,
     "metadata": {},
     "output_type": "execute_result"
    }
   ],
   "source": [
    "#iterator in python is process where countable value into it.\n",
    "# we can use for loop to iterate or we can use iter keywords for iteration.\n",
    "lists= [2, 4, 6, 8, 10, 12, 14,16, 18, 20]\n",
    "s=lists[0:5]\n",
    "s"
   ]
  },
  {
   "cell_type": "markdown",
   "id": "69aeb8f8-a688-4230-bba6-cbafb1de9ddd",
   "metadata": {},
   "source": [
    "Q4. What is a generator function in python? Why yield keyword is used? Give an example of a generator\n",
    "function."
   ]
  },
  {
   "cell_type": "code",
   "execution_count": 23,
   "id": "be88170a-1dee-47f6-9993-cff3196ca0d2",
   "metadata": {},
   "outputs": [
    {
     "name": "stdout",
     "output_type": "stream",
     "text": [
      "[1, 3, 5, 7, 9]\n"
     ]
    }
   ],
   "source": [
    "# Generator function in pyhton basically for to iterates the value but won't save into the memory .\n",
    "#yield keyword is used for to return value or we can say that it is similar to the return keyword but yield is using into the generator.\n",
    "\n",
    "def odd(n):\n",
    "    l=[]\n",
    "    for i in range(n):\n",
    "        if i%2!=0:\n",
    "            l.append(i)\n",
    "    yield l\n",
    "for i in odd(10):\n",
    "    print(i)"
   ]
  },
  {
   "cell_type": "markdown",
   "id": "2cdf80d8-4c95-43c0-8021-c43c5702ae61",
   "metadata": {},
   "source": [
    "Q5. Create a generator function for prime numbers less than 1000. Use the next() method to print the\n",
    "first 20 prime numbers."
   ]
  },
  {
   "cell_type": "code",
   "execution_count": 11,
   "id": "0429d54d-3cb2-41b9-912e-4b27b92e0dc7",
   "metadata": {},
   "outputs": [],
   "source": [
    "def prime_number():\n",
    "    n=1\n",
    "    l=[]\n",
    "    while True:\n",
    "        for i in range(2,n):\n",
    "            if n%i==0:\n",
    "                pass\n",
    "            else:\n",
    "                l.append(n)\n",
    "                n=n+1\n",
    "        yield l\n",
    "                "
   ]
  },
  {
   "cell_type": "code",
   "execution_count": 12,
   "id": "1b093264-6756-49f7-9ab7-07743cf7dfd3",
   "metadata": {},
   "outputs": [
    {
     "name": "stdout",
     "output_type": "stream",
     "text": [
      "[]\n",
      "[]\n",
      "[]\n",
      "[]\n",
      "[]\n",
      "[]\n",
      "[]\n",
      "[]\n",
      "[]\n",
      "[]\n",
      "[]\n",
      "[]\n",
      "[]\n",
      "[]\n",
      "[]\n",
      "[]\n",
      "[]\n",
      "[]\n",
      "[]\n",
      "[]\n"
     ]
    }
   ],
   "source": [
    "prime=prime_number()\n",
    "for i in range(20):\n",
    "    print(next(prime))"
   ]
  },
  {
   "cell_type": "markdown",
   "id": "cdbadce7-95ed-405a-8cb7-a1c8b9ea6b7c",
   "metadata": {},
   "source": [
    "Q6. Write a python program to print the first 10 Fibonacci numbers using a while loop."
   ]
  },
  {
   "cell_type": "code",
   "execution_count": 2,
   "id": "3ddc7a5f-adb3-49b7-a321-e5f96effce65",
   "metadata": {},
   "outputs": [
    {
     "name": "stdout",
     "output_type": "stream",
     "text": [
      "0\n",
      "1\n",
      "1\n",
      "2\n",
      "3\n",
      "5\n",
      "8\n",
      "13\n",
      "21\n",
      "34\n"
     ]
    }
   ],
   "source": [
    "def fib_num():\n",
    "    a,b=0,1\n",
    "    while True:\n",
    "        yield a\n",
    "        a,b=b,a+b\n",
    "fi=fib_num()\n",
    "for i in range(10):\n",
    "    print(next(fi))\n",
    "    "
   ]
  },
  {
   "cell_type": "markdown",
   "id": "864554c5-02ca-4259-aa68-624a5ecd6d15",
   "metadata": {},
   "source": [
    "Q7. Write a List Comprehension to iterate through the given string: ‘pwskills’.\n",
    "Expected output: ['p', 'w', 's', 'k', 'i', 'l', 'l', 's']"
   ]
  },
  {
   "cell_type": "code",
   "execution_count": 7,
   "id": "5477ad36-2ba9-4a7e-9024-116272b5501f",
   "metadata": {},
   "outputs": [
    {
     "data": {
      "text/plain": [
       "['p', 'w', 's', 'k', 'i', 'l', 'l', 's']"
      ]
     },
     "execution_count": 7,
     "metadata": {},
     "output_type": "execute_result"
    }
   ],
   "source": [
    "string = 'pwskills'\n",
    "[i for i in string]"
   ]
  },
  {
   "cell_type": "markdown",
   "id": "16c49c57-e7c9-41dc-9cee-403c915d50d9",
   "metadata": {},
   "source": [
    "Q8. Write a python program to check whether a given number is Palindrome or not using a while loop."
   ]
  },
  {
   "cell_type": "code",
   "execution_count": 13,
   "id": "a52508ad-b2ff-46f9-bd25-6eabecc2b0bb",
   "metadata": {},
   "outputs": [],
   "source": [
    "def palindrom(num):\n",
    "    new_num=str(num)\n",
    "    if new_num==new_num[::-1]:\n",
    "        return \"Palindrom number\"\n",
    "    else:\n",
    "        return \"Not palindrom Number\"\n",
    "    "
   ]
  },
  {
   "cell_type": "code",
   "execution_count": 23,
   "id": "bbc7a823-7095-4e91-91ea-61c08277480f",
   "metadata": {},
   "outputs": [
    {
     "data": {
      "text/plain": [
       "'Not palindrom Number'"
      ]
     },
     "execution_count": 23,
     "metadata": {},
     "output_type": "execute_result"
    }
   ],
   "source": [
    "palindrom(122)"
   ]
  },
  {
   "cell_type": "markdown",
   "id": "1bf8dc8a-f9b4-471a-b784-835044ba35a2",
   "metadata": {},
   "source": [
    "Q9. Write a code to print odd numbers from 1 to 100 using list comprehension.\n",
    "Note: Use a list comprehension to create a list from 1 to 100 and use another List comprehension to filter\n",
    "out odd numbers.\n"
   ]
  },
  {
   "cell_type": "code",
   "execution_count": 27,
   "id": "b5d86758-360a-4fce-985e-4c9c9ed18f38",
   "metadata": {},
   "outputs": [],
   "source": [
    "odd=[i for i in range(1,101)]"
   ]
  },
  {
   "cell_type": "code",
   "execution_count": 29,
   "id": "4784eaa7-ee32-42fd-801c-6a81a369a7b2",
   "metadata": {},
   "outputs": [],
   "source": [
    "odd_new=[i for i in odd if i%2!=0]"
   ]
  },
  {
   "cell_type": "code",
   "execution_count": null,
   "id": "478c6065-4844-4440-89ce-094695fc2ac6",
   "metadata": {},
   "outputs": [],
   "source": [
    "odd"
   ]
  }
 ],
 "metadata": {
  "kernelspec": {
   "display_name": "Python 3 (ipykernel)",
   "language": "python",
   "name": "python3"
  },
  "language_info": {
   "codemirror_mode": {
    "name": "ipython",
    "version": 3
   },
   "file_extension": ".py",
   "mimetype": "text/x-python",
   "name": "python",
   "nbconvert_exporter": "python",
   "pygments_lexer": "ipython3",
   "version": "3.10.8"
  }
 },
 "nbformat": 4,
 "nbformat_minor": 5
}
