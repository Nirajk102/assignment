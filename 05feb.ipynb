{
 "cells": [
  {
   "cell_type": "markdown",
   "id": "fe081adc-cb8d-4978-8539-895e21fafaa4",
   "metadata": {},
   "source": [
    "Q1. Explain Class and Object with respect to Object-Oriented Programming. Give a suitable example."
   ]
  },
  {
   "cell_type": "markdown",
   "id": "56afea34-77b9-4ac6-bc9b-1c29d486f1a3",
   "metadata": {},
   "source": [
    "Class is blueprint of object and An object is a class instance that allows programmers to use variables and methods from inside the class.\n",
    "\n",
    "eg of class whwere in class we define an varibale whose value is 5 :-\n",
    "class new:\n",
    "    ajay=5\n",
    "eg of object on given class we create a object by which using class we call it function\n",
    "nn= new()\n",
    "print(nn.ajay)"
   ]
  },
  {
   "cell_type": "markdown",
   "id": "ee90ccdd-d37c-4254-b81f-873bf93ec455",
   "metadata": {},
   "source": [
    "Q2. Name the four pillars of OOPs.\n",
    "\n",
    "ans:- the four pillars of OOPs are :\n",
    "     1)  Inheritance \n",
    "     2)Polymorphism\n",
    "     3)Encapsulation \n",
    "     4)Abstraction"
   ]
  },
  {
   "cell_type": "markdown",
   "id": "cfc522d7-8f06-4a35-866d-a9512babfa90",
   "metadata": {},
   "source": [
    "Q3. Explain why the __init__() function is used. Give a suitable example.\n",
    "\n",
    "Ans:- the __init__() function is constructor who helps to initiate the function with in class .\n",
    "\n",
    "eg:\n",
    "class person:\n",
    "    def __init__(self,name,age):\n",
    "        self.name=name\n",
    "        self.age=age\n",
    "    def call():\n",
    "        return self.name,self.age\n",
    "p=person(\"ajay\",35)\n",
    "print(p.name)\n",
    "print(p.age)"
   ]
  },
  {
   "cell_type": "markdown",
   "id": "17f0beff-cec2-47c2-bace-900eb298991b",
   "metadata": {},
   "source": [
    "Q4. Why self is used in OOPs?\n",
    "Ans:- Self is used in oops to recall the class where used function initiated into tthe given class and self is not reserved keyword we can use other varianble instead of self"
   ]
  },
  {
   "cell_type": "code",
   "execution_count": null,
   "id": "f6365f28-abe2-4274-8280-6b9708e8263d",
   "metadata": {},
   "outputs": [],
   "source": [
    "Q5. What is inheritance? Give an example for each type of inheritance.\n",
    "\n",
    "Ans:- A child class inherits the properties and methods of the parent class.\n",
    " eg:-class car:\n",
    "        def __init__(self,model,type,brand):\n",
    "            self.model=model\n",
    "            self.type=type\n",
    "            self.brand=brand\n",
    "    class tata(car):\n",
    "        def __init__(self,model,type,brand,clor):\n",
    "            super().\n",
    "    "
   ]
  }
 ],
 "metadata": {
  "kernelspec": {
   "display_name": "Python 3 (ipykernel)",
   "language": "python",
   "name": "python3"
  },
  "language_info": {
   "codemirror_mode": {
    "name": "ipython",
    "version": 3
   },
   "file_extension": ".py",
   "mimetype": "text/x-python",
   "name": "python",
   "nbconvert_exporter": "python",
   "pygments_lexer": "ipython3",
   "version": "3.10.8"
  }
 },
 "nbformat": 4,
 "nbformat_minor": 5
}
