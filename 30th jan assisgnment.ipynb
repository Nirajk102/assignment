{
 "cells": [
  {
   "cell_type": "markdown",
   "id": "ee683421-118d-4a0a-aac6-6a986e909087",
   "metadata": {},
   "source": [
    "1. Write a program to accept percentage from the user and display the grade according to the following \n",
    "criteria: \n",
    "Marks \n",
    "Grade \n",
    ">90 \n",
    "A \n",
    ">80 and <=90 \n",
    "B \n",
    ">=60 and <=80 \n",
    "C \n",
    "below 60 \n",
    "D \n"
   ]
  },
  {
   "cell_type": "code",
   "execution_count": 14,
   "id": "f7958801-bf79-476a-a5d6-0b9b95067755",
   "metadata": {},
   "outputs": [
    {
     "name": "stdin",
     "output_type": "stream",
     "text": [
      "Enter the perecentage 60\n"
     ]
    },
    {
     "name": "stdout",
     "output_type": "stream",
     "text": [
      "C\n"
     ]
    }
   ],
   "source": [
    "Marks_Grade= int(input(\"Enter the perecentage\"))\n",
    "if Marks_Grade>90:\n",
    "    print(\"A\")\n",
    "elif Marks_Grade>80 and Marks_Grade<=90:\n",
    "    print(\"B\")\n",
    "elif Marks_Grade>=60 and Marks_Grade<=80:\n",
    "    print(\"C\")\n",
    "elif Marks_Grade<60 :\n",
    "    print(\"D\")\n"
   ]
  },
  {
   "cell_type": "markdown",
   "id": "1b225beb-4a2d-47d4-99a6-156b55a097a4",
   "metadata": {},
   "source": [
    "2. Write a program to accept the cost price of a bike and display the road tax to be paid according to the \n",
    "following criteria: \n",
    "Tax \n",
    "15% \n",
    "10% \n",
    "5% \n",
    "Cost Price(in Rs) \n",
    ">100000 \n",
    "50000 and <= 100000 \n",
    "<= 50000 \n",
    "\n"
   ]
  },
  {
   "cell_type": "code",
   "execution_count": 22,
   "id": "3aace30a-6af9-4500-8cf9-5125d55dea4a",
   "metadata": {},
   "outputs": [
    {
     "name": "stdin",
     "output_type": "stream",
     "text": [
      "enter the cost price of bike 200000\n"
     ]
    },
    {
     "name": "stdout",
     "output_type": "stream",
     "text": [
      "Road Tax to be paid 30000.0\n"
     ]
    }
   ],
   "source": [
    "Cost_price_bike=int(input(\"enter the cost price of bike\"))\n",
    "if Cost_price_bike<=50000:\n",
    "    print(\"Road Tax to be paid\",(Cost_price_bike*5)/100)\n",
    "elif Cost_price_bike>50000  and Cost_price_bike<= 100000:\n",
    "    print(\"Road Tax to be paid\",(Cost_price_bike*10)/100)\n",
    "elif Cost_price_bike>100000:\n",
    "    print(\"Road Tax to be paid\",(Cost_price_bike*15)/100)"
   ]
  },
  {
   "cell_type": "markdown",
   "id": "48df6aea-46ee-438a-a3c7-9f6a48408ae2",
   "metadata": {},
   "source": [
    "3. Accept any city from the user and display monuments of that city. \n",
    "City \n",
    "Delhi \n",
    "Monument \n",
    "Red Fort \n",
    "Taj Mahal \n",
    "Agra \n",
    "Jaipur \n",
    "Jal Mahal \n"
   ]
  },
  {
   "cell_type": "code",
   "execution_count": 24,
   "id": "9c44a483-11c8-4912-85bf-c87decf034a9",
   "metadata": {},
   "outputs": [
    {
     "name": "stdin",
     "output_type": "stream",
     "text": [
      "enter the city name Delhi\n"
     ]
    },
    {
     "name": "stdout",
     "output_type": "stream",
     "text": [
      "Monument Red Fort\n"
     ]
    }
   ],
   "source": [
    "city=str(input(\"enter the city name\"))\n",
    "if city==\"Delhi\":\n",
    "         print(\"Monument:- Red Fort\")\n",
    "elif city==\"Agra \":\n",
    "         print(\"Monument:- Taj Mahal\")\n",
    "elif city==\"Jaipur\":\n",
    "         print(\"Monument:- Jal Mahal\")"
   ]
  },
  {
   "cell_type": "markdown",
   "id": "2315e428-d8d3-4072-bb1a-1a519ab19e15",
   "metadata": {},
   "source": [
    "4. Check how many times a given number can be divided by 3 before it is less than or equal to 10. \n"
   ]
  },
  {
   "cell_type": "code",
   "execution_count": 46,
   "id": "21cb7101-04a2-4add-91c0-ecf1c87d5b15",
   "metadata": {},
   "outputs": [
    {
     "name": "stdin",
     "output_type": "stream",
     "text": [
      "enter the number 18\n"
     ]
    },
    {
     "name": "stdout",
     "output_type": "stream",
     "text": [
      "3 times a given number can be divided by 3 before it is less than or equal to 10.\n"
     ]
    }
   ],
   "source": [
    "s=int(input(\"enter the number\"))\n",
    "count=0\n",
    "for i in range(11,s+1): #put the condition for value 10\n",
    "    if i%3==0:\n",
    "        count=count+1\n",
    "print(count,\"times a given number can be divided by 3 before it is less than or equal to 10.\")\n",
    "\n",
    "   "
   ]
  },
  {
   "cell_type": "markdown",
   "id": "8b9ca746-0384-4e49-bc4f-6ea0eb8c2a65",
   "metadata": {},
   "source": [
    "5. Why and When to Use while Loop in Python give a detailed description with example "
   ]
  },
  {
   "cell_type": "code",
   "execution_count": 2,
   "id": "20a64e4a-e075-44d9-8ba4-528e143acca8",
   "metadata": {},
   "outputs": [
    {
     "name": "stdout",
     "output_type": "stream",
     "text": [
      "while loop\n",
      "while loop\n",
      "while loop\n",
      "done\n"
     ]
    }
   ],
   "source": [
    "#In while loop we are only checking condition ,i.e if given statement is not justfiy the while condition we have to do certain operation,As we can see as while working as if condition like eg\n",
    "num=1\n",
    "while num<4:\n",
    "    print(\"while loop\")\n",
    "    num=num+1\n",
    "else:\n",
    "    print(\"done\")\n",
    "    "
   ]
  },
  {
   "cell_type": "markdown",
   "id": "01a44bb9-c4df-4486-8631-e20d6571deca",
   "metadata": {},
   "source": [
    "6. Use nested while loop to print 3 different pattern. \n"
   ]
  },
  {
   "cell_type": "code",
   "execution_count": null,
   "id": "77cf369c-0ac5-4c66-8a7f-f5f34d2d6897",
   "metadata": {},
   "outputs": [],
   "source": [
    "row=int(input(\"enter the numebr of row\"))\n",
    "i=1\n",
    "while i<=row:\n",
    "    j=1\n",
    "    while j<=i:\n",
    "        print(\"*\",end=\" \")\n",
    "        j=j+1\n",
    "    print()\n",
    "    i=i+1\n",
    "    "
   ]
  },
  {
   "cell_type": "code",
   "execution_count": null,
   "id": "cef79721-e83c-4479-8d26-7bf1d54048ac",
   "metadata": {},
   "outputs": [],
   "source": [
    "row=int(input(\"enter the numebr of row\"))\n",
    "i=1\n",
    "while i<=row:\n",
    "    j=n\n",
    "    while j>=i:\n",
    "        print(\"*\",end=\" \")\n",
    "        j=j-1\n",
    "    print()\n",
    "    i=i+1\n",
    "    "
   ]
  },
  {
   "cell_type": "code",
   "execution_count": null,
   "id": "ebec57b8-756c-4e10-9106-42f9b7fb5bb0",
   "metadata": {},
   "outputs": [],
   "source": [
    "row=int(input(\"enter the numebr of row\"))\n",
    "i=1\n",
    "while i<=row:\n",
    "    j=1\n",
    "    while j<=i:\n",
    "        print(\"*\",end=\" \")\n",
    "        j=j+1\n",
    "    print()\n",
    "    i=i+1\n",
    "    \n"
   ]
  },
  {
   "cell_type": "markdown",
   "id": "c3455eaf-0cfe-4338-ba7c-4e793f630e25",
   "metadata": {},
   "source": [
    "7. Reverse a while loop to display numbers from 10 to 1."
   ]
  },
  {
   "cell_type": "code",
   "execution_count": 21,
   "id": "d46a87df-c4cb-4b04-b8b9-f12b98c174c9",
   "metadata": {},
   "outputs": [
    {
     "data": {
      "text/plain": [
       "12345678910"
      ]
     },
     "execution_count": 21,
     "metadata": {},
     "output_type": "execute_result"
    }
   ],
   "source": [
    "num=10987654321\n",
    "reverse=0\n",
    "while num>0 and num>10:\n",
    "    last=num%10\n",
    "    reverse=reverse*10+last\n",
    "    num=num//10\n",
    "    if num==10:\n",
    "        reverse=reverse*100+num\n",
    "reverse"
   ]
  },
  {
   "cell_type": "markdown",
   "id": "1890531c-aabf-4b1f-ae0c-07b932c732a8",
   "metadata": {},
   "source": [
    "8. Reverse a while loop to display numbers from 10 to 1."
   ]
  },
  {
   "cell_type": "code",
   "execution_count": null,
   "id": "0983ae5d-b605-42e8-89a2-033ddae56d98",
   "metadata": {},
   "outputs": [],
   "source": [
    "num=10987654321\n",
    "reverse=0\n",
    "while num>0 and num>10:\n",
    "    last=num%10\n",
    "    reverse=reverse*10+last\n",
    "    num=num//10\n",
    "    if num==10:\n",
    "        reverse=reverse*100+num\n",
    "reverse"
   ]
  }
 ],
 "metadata": {
  "kernelspec": {
   "display_name": "Python 3 (ipykernel)",
   "language": "python",
   "name": "python3"
  },
  "language_info": {
   "codemirror_mode": {
    "name": "ipython",
    "version": 3
   },
   "file_extension": ".py",
   "mimetype": "text/x-python",
   "name": "python",
   "nbconvert_exporter": "python",
   "pygments_lexer": "ipython3",
   "version": "3.10.8"
  }
 },
 "nbformat": 4,
 "nbformat_minor": 5
}
