{
 "cells": [
  {
   "cell_type": "markdown",
   "id": "5895a6ba-3ac7-442d-8f32-98ea304bd269",
   "metadata": {},
   "source": [
    "Q1. You are writing code for a company. The requirement of the company is that you create a python\n",
    "function that will check whether the password entered by the user is correct or not. The function should\n",
    "take the password as input and return the string “Valid Password” if the entered password follows the\n",
    "below-given password guidelines else it should return “Invalid Password”.\n",
    "Note: 1. The Password should contain at least two uppercase letters and at least two lowercase letters.\n",
    "2. The Password should contain at least a number and three special characters.\n",
    "3. The length of the password should be 10 characters long."
   ]
  },
  {
   "cell_type": "code",
   "execution_count": 1,
   "id": "a56a75fa-faa8-427a-926f-9608e4d404df",
   "metadata": {},
   "outputs": [
    {
     "name": "stdin",
     "output_type": "stream",
     "text": [
      "Enter the password asffASjnfej@@@\n"
     ]
    },
    {
     "name": "stdout",
     "output_type": "stream",
     "text": [
      "Invalid password\n"
     ]
    }
   ],
   "source": [
    "def password(s):\n",
    "    count_upper,count_lower,count_numeric,count_special=0,0,0,0\n",
    "    for i in s:\n",
    "        if i.isupper():\n",
    "            count_upper=count_upper+1\n",
    "        elif i.islower():\n",
    "            count_lower=count_lower+1\n",
    "        elif i.isnumeric():\n",
    "            count_numeric=count_numeric+1\n",
    "        else:\n",
    "            count_special=count_special+1\n",
    "    if count_upper>=2 and count_lower>=2 and count_numeric>=1 and count_special>=3 and len(s)==10:\n",
    "        print(\"valid password\")\n",
    "    else:\n",
    "        print(\"Invalid password\")\n",
    "password(input(\"Enter the password\"))"
   ]
  },
  {
   "cell_type": "markdown",
   "id": "39b09b16-a47e-45e9-8f2f-9c1f68681241",
   "metadata": {},
   "source": [
    "Q2. Solve the below-given questions using at least one of the following:\n",
    "1. Lambda functioJ\n",
    "2. Filter functioJ\n",
    "3. Zap functioJ\n",
    "4. List ComprehensioI\n",
    "B Check if the string starts with a particular letterY\n",
    "B Check if the string is numericY\n",
    "B Sort a list of tuples having fruit names and their quantity. [(\"mango\",99),(\"orange\",80), (\"grapes\", 1000)-\n",
    "B Find the squares of numbers from 1 to 10Y\n",
    "B Find the cube root of numbers from 1 to 10Y\n",
    "B Check if a given number is evenY\n",
    "B Filter odd numbers from the given list.\n",
    "[1,2,3,4,5,6,7,8,9,10-\n",
    "B Sort a list of integers into positive and negative integers lists.\n",
    "[1,2,3,4,5,6,-1,-2,-3,-4,-5,0]"
   ]
  },
  {
   "cell_type": "code",
   "execution_count": 3,
   "id": "18023c92-bb4b-491e-beea-d6118802751a",
   "metadata": {},
   "outputs": [
    {
     "name": "stdin",
     "output_type": "stream",
     "text": [
      "Enter string Ydjbdhbs\n"
     ]
    },
    {
     "name": "stdout",
     "output_type": "stream",
     "text": [
      "['Y', 'd', 'j', 'b', 'd', 'h', 'b', 's']\n"
     ]
    }
   ],
   "source": [
    "#Check if the string starts with a particular letter Y\n",
    "d=input(\"Enter string\")\n",
    "s=[i for i in d if d[0]==\"Y\"]\n",
    "print(s)"
   ]
  },
  {
   "cell_type": "code",
   "execution_count": 5,
   "id": "4757f0c1-cc58-45b4-a9ea-2b4ec1827198",
   "metadata": {},
   "outputs": [
    {
     "name": "stdin",
     "output_type": "stream",
     "text": [
      "Enter the numeric string 23444\n"
     ]
    },
    {
     "name": "stdout",
     "output_type": "stream",
     "text": [
      "['is numeric']\n"
     ]
    }
   ],
   "source": [
    "#Check if the string is numericY\n",
    "string=input(\"Enter the numeric string\")\n",
    "d=[\"is numeric\"if string.isnumeric() else \"not numeric\"]\n",
    "print(d)"
   ]
  },
  {
   "cell_type": "code",
   "execution_count": 7,
   "id": "f95bd0e0-ff12-4c8b-9cb5-a11fb54fbd4f",
   "metadata": {},
   "outputs": [
    {
     "name": "stdout",
     "output_type": "stream",
     "text": [
      "[('orange', 80), ('mango', 99), ('grapes', 1000)]\n"
     ]
    }
   ],
   "source": [
    "#Sort a list of tuples having fruit names and their quantity. [(\"mango\",99),(\"orange\",80), (\"grapes\", 1000)-\n",
    "given= [(\"mango\",99),(\"orange\",80), (\"grapes\", 1000)]\n",
    "sort=sorted(given ,key=lambda x:x[1])\n",
    "print(sort)"
   ]
  },
  {
   "cell_type": "code",
   "execution_count": 14,
   "id": "b18fc123-ded9-413e-b810-31a5649f9be7",
   "metadata": {},
   "outputs": [
    {
     "name": "stdout",
     "output_type": "stream",
     "text": [
      "[1, 4, 9, 16, 25, 36, 49, 64, 81, 100]\n"
     ]
    }
   ],
   "source": [
    "#Find the squares of numbers from 1 to 10Y\n",
    "lis=[i for i in range(1,11)]\n",
    "sq=list(map(lambda x:x**2,lis))\n",
    "print(sq)"
   ]
  },
  {
   "cell_type": "code",
   "execution_count": 16,
   "id": "ee385074-f3a4-4d3b-88d1-3c43a2723ced",
   "metadata": {},
   "outputs": [
    {
     "name": "stdout",
     "output_type": "stream",
     "text": [
      "[1, 8, 27, 64, 125, 216, 343, 512, 729, 1000]\n"
     ]
    }
   ],
   "source": [
    "#Find the cube root of numbers from 1 to 10Y\n",
    "lis1=[i for i in range(1,11)]\n",
    "cub=list(map(lambda x:x**3,lis1))\n",
    "print(cub)"
   ]
  },
  {
   "cell_type": "code",
   "execution_count": 19,
   "id": "cc959162-8c21-4e12-8186-da82cecb0fd3",
   "metadata": {},
   "outputs": [
    {
     "name": "stdin",
     "output_type": "stream",
     "text": [
      "Enter the number 55\n"
     ]
    },
    {
     "name": "stdout",
     "output_type": "stream",
     "text": [
      "['Not Even']\n"
     ]
    }
   ],
   "source": [
    "#Check if a given number is evenY\n",
    "given=int(input(\"Enter the number\"))\n",
    "even=[\"Even\" if given%2==0 else \"Not Even\"]\n",
    "print(even)\n",
    "            "
   ]
  },
  {
   "cell_type": "code",
   "execution_count": 21,
   "id": "d91b984c-ca39-4e9f-9bc5-f2f4bb879edb",
   "metadata": {},
   "outputs": [
    {
     "name": "stdout",
     "output_type": "stream",
     "text": [
      "[1, 3, 5, 7, 9]\n"
     ]
    }
   ],
   "source": [
    "#Filter odd numbers from the given list.\n",
    "#[1,2,3,4,5,6,7,8,9,10]\n",
    "given=[1,2,3,4,5,6,7,8,9,10]\n",
    "odd=list(filter(lambda x :x%2!=0,given))\n",
    "print(odd)\n"
   ]
  },
  {
   "cell_type": "code",
   "execution_count": 23,
   "id": "c75d16aa-0450-4bfa-9159-4c802e212e41",
   "metadata": {},
   "outputs": [
    {
     "ename": "SyntaxError",
     "evalue": "invalid syntax. Perhaps you forgot a comma? (377453920.py, line 4)",
     "output_type": "error",
     "traceback": [
      "\u001b[0;36m  Cell \u001b[0;32mIn[23], line 4\u001b[0;36m\u001b[0m\n\u001b[0;31m    sort=list(sorted(given, key lambda x:x[0]))\u001b[0m\n\u001b[0m                            ^\u001b[0m\n\u001b[0;31mSyntaxError\u001b[0m\u001b[0;31m:\u001b[0m invalid syntax. Perhaps you forgot a comma?\n"
     ]
    }
   ],
   "source": [
    "#Sort a list of integers into positive and negative integers lists.\n",
    "#[1,2,3,4,5,6,-1,-2,-3,-4,-5,0]\n",
    "given=[1,2,3,4,5,6,-1,-2,-3,-4,-5,0]\n",
    "sort=list(sorted(given, key lambda x:x[0]))"
   ]
  },
  {
   "cell_type": "code",
   "execution_count": null,
   "id": "972184cf-c732-43d8-8460-d4be4766e8b7",
   "metadata": {},
   "outputs": [],
   "source": []
  }
 ],
 "metadata": {
  "kernelspec": {
   "display_name": "Python 3 (ipykernel)",
   "language": "python",
   "name": "python3"
  },
  "language_info": {
   "codemirror_mode": {
    "name": "ipython",
    "version": 3
   },
   "file_extension": ".py",
   "mimetype": "text/x-python",
   "name": "python",
   "nbconvert_exporter": "python",
   "pygments_lexer": "ipython3",
   "version": "3.10.8"
  }
 },
 "nbformat": 4,
 "nbformat_minor": 5
}
