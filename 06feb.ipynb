{
 "cells": [
  {
   "cell_type": "markdown",
   "id": "4de27da8-7ae8-40b0-bd12-4b602c6503cb",
   "metadata": {},
   "source": [
    "Q1. Create a function which will take a list as an argument and return the product of all the numbers\n",
    "after creating a flat list.\n",
    "Use the below-given list as an argument for your function.\n",
    "list1 = [1,2,3,4, [44,55,66, True], False, (34,56,78,89,34), {1,2,3,3,2,1}, {1:34, \"key2\": [55, 67, 78, 89], 4: (45,\n",
    "22, 61, 34)}, [56, 'data science'], 'Machine Learning']\n",
    "Note: you must extract numeric keys and values of the dictionary also."
   ]
  },
  {
   "cell_type": "code",
   "execution_count": 4,
   "id": "fba1eb9d-9555-4d06-bbe0-c3d34ad389e3",
   "metadata": {},
   "outputs": [
    {
     "data": {
      "text/plain": [
       "59227361237697261325516800"
      ]
     },
     "execution_count": 4,
     "metadata": {},
     "output_type": "execute_result"
    }
   ],
   "source": [
    "list1 = [1,2,3,4, [44,55,66, True], False, (34,56,78,89,34), {1,2,3,3,2,1}, {1:34, \"key2\": [55, 67, 78, 89], 4: (45,\n",
    "22, 61, 34)}, [56, 'data science'], 'Machine Learning']\n",
    "\n",
    "def func(list1):\n",
    "    product=1\n",
    "    for i in list1:\n",
    "        if type(i)==list or type(i)==tuple or type(i)==set:\n",
    "            for j in i:\n",
    "                if type(j)==int:\n",
    "                    product=product*j\n",
    "                else:\n",
    "                    pass\n",
    "        elif type(i)==dict:\n",
    "            for k,l in i.items():\n",
    "                if type(k)==int:\n",
    "                    product=product*k\n",
    "                elif type(l)==list or type(l)==tuple :\n",
    "                    for s in l:\n",
    "                        product=product*s\n",
    "                elif type(l)==int:\n",
    "                    product=product*l\n",
    "                else:\n",
    "                    pass\n",
    "                \n",
    "                \n",
    "        elif type(i)==int:\n",
    "            product=product*i\n",
    "        else:\n",
    "            pass\n",
    "    return product\n",
    "\n",
    "\n",
    "func(list1)\n"
   ]
  },
  {
   "cell_type": "code",
   "execution_count": null,
   "id": "a782d264-4265-4879-9dcc-00330b4a2ac3",
   "metadata": {},
   "outputs": [],
   "source": [
    "Q2. Write a python program for encrypting a message sent to you by your friend. The logic of encryption\n",
    "should be such that, for a the output should be z. For b, the output should be y. For c, the output should\n",
    "be x respectively. Also, the whitespace should be replaced with a dollar sign. Keep the punctuation\n",
    "marks unchanged.\n",
    "Input Sentence: I want to become a Data Scientist.\n",
    "Encrypt the above input sentence using the program you just created.\n",
    "Note: Convert the given input sentence into lowercase before encrypting. The final output should be\n",
    "lowercase."
   ]
  },
  {
   "cell_type": "code",
   "execution_count": 5,
   "id": "0a28b0c9-b7fc-4975-b098-0ea893fab200",
   "metadata": {},
   "outputs": [
    {
     "data": {
      "text/plain": [
       "'i$wznt$to$yexome$z$dztz$sxientist'"
      ]
     },
     "execution_count": 5,
     "metadata": {},
     "output_type": "execute_result"
    }
   ],
   "source": [
    "string=\"I want to become a Data Scientist\"\n",
    "def encrpt(string):\n",
    "    string=string.lower()\n",
    "    encrpt=string.replace(\"a\",\"z\")\n",
    "    encrpt1=encrpt.replace(\"b\",\"y\")\n",
    "    encrpt2=encrpt1.replace(\"c\",\"x\")\n",
    "    encrpt3=encrpt2.replace(\" \",\"$\")\n",
    "    return encrpt3\n",
    "\n",
    "encrpt(string)\n"
   ]
  },
  {
   "cell_type": "code",
   "execution_count": null,
   "id": "c30afbff-de63-4cd1-bceb-75efc4f6001c",
   "metadata": {},
   "outputs": [],
   "source": []
  }
 ],
 "metadata": {
  "kernelspec": {
   "display_name": "Python 3 (ipykernel)",
   "language": "python",
   "name": "python3"
  },
  "language_info": {
   "codemirror_mode": {
    "name": "ipython",
    "version": 3
   },
   "file_extension": ".py",
   "mimetype": "text/x-python",
   "name": "python",
   "nbconvert_exporter": "python",
   "pygments_lexer": "ipython3",
   "version": "3.10.8"
  }
 },
 "nbformat": 4,
 "nbformat_minor": 5
}
